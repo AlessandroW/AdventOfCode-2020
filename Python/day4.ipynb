{
 "cells": [
  {
   "cell_type": "code",
   "execution_count": 1,
   "metadata": {},
   "outputs": [],
   "source": [
    "input = \"\"\"ecl:gry pid:860033327 eyr:2020 hcl:#fffffd\n",
    "byr:1937 iyr:2017 cid:147 hgt:183cm\n",
    "\n",
    "iyr:2013 ecl:amb cid:350 eyr:2023 pid:028048884\n",
    "hcl:#cfa07d byr:1929\n",
    "\n",
    "hcl:#ae17e1 iyr:2013\n",
    "eyr:2024\n",
    "ecl:brn pid:760753108 byr:1931\n",
    "hgt:179cm\n",
    "\n",
    "hcl:#cfa07d eyr:2025 pid:166559648\n",
    "iyr:2011 ecl:brn hgt:59in\"\"\"\n",
    "\n",
    "\n",
    "invalid_passports = \"\"\"eyr:1972 cid:100\n",
    "hcl:#18171d ecl:amb hgt:170 pid:186cm iyr:2018 byr:1926\n",
    "\n",
    "iyr:2019\n",
    "hcl:#602927 eyr:1967 hgt:170cm\n",
    "ecl:grn pid:012533040 byr:1946\n",
    "\n",
    "hcl:dab227 iyr:2012\n",
    "ecl:brn hgt:182cm pid:021572410 eyr:2020 byr:1992 cid:277\n",
    "\n",
    "hgt:59cm ecl:zzz\n",
    "eyr:2038 hcl:74454a iyr:2023\n",
    "pid:3556412378 byr:2007\"\"\"\n",
    "\n",
    "valid_passports = \"\"\"pid:087499704 hgt:74in ecl:grn iyr:2012 eyr:2030 byr:1980\n",
    "hcl:#623a2f\n",
    "\n",
    "eyr:2029 ecl:blu cid:129 byr:1989\n",
    "iyr:2014 pid:896056539 hcl:#a97842 hgt:165cm\n",
    "\n",
    "hcl:#888785\n",
    "hgt:164cm byr:2001 iyr:2015 cid:88\n",
    "pid:545766238 ecl:hzl\n",
    "eyr:2022\n",
    "\n",
    "iyr:2010 hgt:158cm hcl:#b6652a ecl:blu byr:1944 eyr:2021 pid:093154719\"\"\""
   ]
  },
  {
   "cell_type": "code",
   "execution_count": 2,
   "metadata": {},
   "outputs": [],
   "source": [
    "from typing import List, Dict\n",
    "\n",
    "def extract_passports(puzzle_input: str) -> List[str]:\n",
    "    \"\"\"Extract the passports from the raw string.\n",
    "    \n",
    "    Note\n",
    "    ----\n",
    "    A passport string can contain newline characters.\n",
    "    \n",
    "    Return\n",
    "    ------\n",
    "    A list of passport strings.\n",
    "    \"\"\"\n",
    "    return [passport.replace(\"\\n\", \" \") for passport in puzzle_input.split(\"\\n\\n\")]\n",
    "\n",
    "\n",
    "def check_passport(passport_string: str, check_data=False) -> bool:\n",
    "    \"\"\"Check if a passport string is a valid passport.\"\"\"\n",
    "    required_fields = [\"byr\", \"iyr\", \"eyr\", \"hgt\", \"hcl\", \"ecl\", \"pid\"]#, \"cid\",]\n",
    "    \n",
    "    for field in required_fields:\n",
    "        if field not in passport_string:\n",
    "            return False\n",
    "    \n",
    "    if check_data:\n",
    "        try:\n",
    "            return check_passport_data(parse_passport(passport_string))\n",
    "        except Exception as e:\n",
    "            return False\n",
    "    else:\n",
    "        # Part One\n",
    "        return True\n",
    "\n",
    "def count_valid_passports(puzzle_input: str, check_data=False) -> int:\n",
    "    return sum([1 for passport_string in extract_passports(puzzle_input)\n",
    "                if check_passport(passport_string, check_data)])\n",
    "\n",
    "\n",
    "def parse_passport(passport_string: str) -> Dict[str, str]:\n",
    "    passport = {}\n",
    "    passport_fields = passport_string.split(\" \")\n",
    "    \n",
    "    for field in passport_fields:\n",
    "        key_value = field.split(\":\")\n",
    "        passport[key_value[0]] = key_value[1]\n",
    "    return passport\n",
    "\n",
    "def is_valid_number(number: str, min: int, max: int) -> bool:\n",
    "    number = int(number)\n",
    "    return number >= min and number <= max\n",
    "\n",
    "def is_valid_height(height: str) -> bool:\n",
    "    if \"in\" in height:\n",
    "        height = height.replace(\"in\", \"\")\n",
    "        return is_valid_number(height, 59, 76)\n",
    "        \n",
    "    elif \"cm\" in height:\n",
    "        height = height.replace(\"cm\", \"\")\n",
    "        return is_valid_number(height, 150, 193)\n",
    "        \n",
    "    else:\n",
    "        return False\n",
    "    \n",
    "    \n",
    "def is_valid_hair_color(hair_color):\n",
    "    # hcl (Hair Color) - a # followed by exactly six characters 0-9 or a-f.\n",
    "    if hair_color[0] != \"#\":\n",
    "        return False\n",
    "    hair_color = hair_color[1:]\n",
    "    if len(hair_color) != 6:\n",
    "        return False\n",
    "    \n",
    "    valid_characters = \"abcdef0123456789\"\n",
    "    for character in hair_color:\n",
    "        if character not in valid_characters:\n",
    "            return False\n",
    "    return True\n",
    "\n",
    "def check_passport_data(passport: Dict[str, str]) -> bool:\n",
    "    if not is_valid_number(passport[\"byr\"], 1920, 2002):\n",
    "        return False\n",
    "    if not is_valid_number(passport[\"iyr\"], 2010, 2020):\n",
    "        return False\n",
    "    if not is_valid_number(passport[\"eyr\"], 2020, 2030):\n",
    "        return False\n",
    "    if not is_valid_height(passport[\"hgt\"]):\n",
    "        return False\n",
    "    if not is_valid_hair_color(passport[\"hcl\"]):\n",
    "        return False\n",
    "\n",
    "    valid_eye_colors = [\"amb\", \"blu\", \"brn\", \"gry\", \"grn\", \"hzl\", \"oth\"]\n",
    "    if passport[\"ecl\"] not in valid_eye_colors:\n",
    "        return False\n",
    "        \n",
    "    try:\n",
    "        passport_id = int(passport[\"pid\"])\n",
    "        if passport_id > 999999999:\n",
    "            return False\n",
    "    except:\n",
    "        return False\n",
    "    \n",
    "    return True"
   ]
  },
  {
   "cell_type": "code",
   "execution_count": 3,
   "metadata": {},
   "outputs": [],
   "source": [
    "with open(\"day4.txt\") as file:\n",
    "    puzzle_input = file.read()"
   ]
  },
  {
   "cell_type": "code",
   "execution_count": 4,
   "metadata": {},
   "outputs": [],
   "source": [
    "assert len(extract_passports(input)) == 4, \"You have an error when extracting the passports.\"\n",
    "assert count_valid_passports(input) == 2, \"Invalid number of valid passports!\"\n",
    "assert count_valid_passports(invalid_passports, check_data=True) == 0, \"Invalid number of invalid passports!\"\n",
    "assert count_valid_passports(valid_passports, check_data=True) == len(extract_passports(valid_passports)), \"Invalid number of valid passports!\""
   ]
  },
  {
   "cell_type": "code",
   "execution_count": 6,
   "metadata": {},
   "outputs": [
    {
     "name": "stdout",
     "output_type": "stream",
     "text": [
      "You counted 228 valid passports.\n"
     ]
    }
   ],
   "source": [
    "valid_passports = count_valid_passports(puzzle_input)\n",
    "print(f\"You counted {valid_passports} valid passports.\")"
   ]
  },
  {
   "cell_type": "code",
   "execution_count": 9,
   "metadata": {},
   "outputs": [
    {
     "name": "stdout",
     "output_type": "stream",
     "text": [
      "You counted 175 valid passports with valid data.\n"
     ]
    }
   ],
   "source": [
    "valid_passports = count_valid_passports(puzzle_input, check_data=True)\n",
    "print(f\"You counted {valid_passports} valid passports with valid data.\")"
   ]
  }
 ],
 "metadata": {
  "kernelspec": {
   "display_name": "Python 3",
   "language": "python",
   "name": "python3"
  },
  "language_info": {
   "codemirror_mode": {
    "name": "ipython",
    "version": 3
   },
   "file_extension": ".py",
   "mimetype": "text/x-python",
   "name": "python",
   "nbconvert_exporter": "python",
   "pygments_lexer": "ipython3",
   "version": "3.9.0"
  }
 },
 "nbformat": 4,
 "nbformat_minor": 4
}
